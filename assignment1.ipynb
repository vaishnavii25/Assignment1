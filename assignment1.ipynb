{
 "cells": [
  {
   "cell_type": "code",
   "execution_count": 24,
   "id": "7b824196-b218-40fa-8c6a-7fb9f33046a7",
   "metadata": {},
   "outputs": [],
   "source": [
    "#string# \n",
    "\"Hello World\"\n",
    "#List#\n",
    "list = [\"apple\", \"banana\", \"litchi\"]\n",
    "#float# \n",
    "float = 0.1234\n",
    "#tuple\n",
    "tuple = (1, 2, 3, 4)\n",
    "\n",
    "\n"
   ]
  },
  {
   "cell_type": "code",
   "execution_count": 23,
   "id": "cabedd09-f083-4ca2-8f3e-323b834975b3",
   "metadata": {},
   "outputs": [
    {
     "ename": "SyntaxError",
     "evalue": "invalid character '‘' (U+2018) (3261150022.py, line 1)",
     "output_type": "error",
     "traceback": [
      "\u001b[0;36m  Cell \u001b[0;32mIn[23], line 1\u001b[0;36m\u001b[0m\n\u001b[0;31m    var1 = ‘ ‘\u001b[0m\n\u001b[0m           ^\u001b[0m\n\u001b[0;31mSyntaxError\u001b[0m\u001b[0;31m:\u001b[0m invalid character '‘' (U+2018)\n"
     ]
    }
   ],
   "source": [
    "var1 = ‘ ‘\n",
    "var2 = ‘[ DS , ML , Python]’\n",
    "var3 = [ ‘DS’ , ’ML’ , ‘Python’ ]\n",
    "var4 = 1\n",
    "\n",
    "type(var1) \n",
    "type(var2) \n",
    "type(var3) \n",
    "type(var4)\n",
    "\n",
    "ans- string, list, num"
   ]
  },
  {
   "cell_type": "code",
   "execution_count": null,
   "id": "443849fd-8baf-45b7-9168-a6561e03bf70",
   "metadata": {},
   "outputs": [],
   "source": [
    "/ used to give quotient to 2 numbers upto decimal places, ex- 3/3=1.0\n",
    "% used to return the remainder of 2 number, ex-3%2=1\n",
    "// used to give quotient but only interger place, ex- 3/3=1\n",
    "** used to calculate exponential of one on another number, ex- 3**3=27"
   ]
  },
  {
   "cell_type": "code",
   "execution_count": 42,
   "id": "9af2f770-428e-42f5-98fe-f5b63e6664de",
   "metadata": {},
   "outputs": [
    {
     "name": "stdout",
     "output_type": "stream",
     "text": [
      "stop\n",
      "<class 'str'>\n",
      "1\n",
      "<class 'int'>\n",
      "2\n",
      "<class 'int'>\n",
      "a\n",
      "<class 'str'>\n",
      "6\n",
      "<class 'int'>\n",
      "7\n",
      "<class 'int'>\n",
      "0.45\n",
      "<class 'float'>\n",
      "start\n",
      "<class 'str'>\n",
      "V\n",
      "<class 'str'>\n",
      "5\n",
      "<class 'int'>\n"
     ]
    }
   ],
   "source": [
    "list = (\"stop\", 1, 2, \"a\", 6, 7, 0.45, \"start\", \"V\", 5)\n",
    "for i in list:\n",
    "    print(i)\n",
    "    print (type(i))"
   ]
  },
  {
   "cell_type": "code",
   "execution_count": null,
   "id": "e7ac7053-8880-4023-9154-fc68b330eb72",
   "metadata": {},
   "outputs": [],
   "source": [
    "a=int(input())\n",
    "b=int(input())\n",
    "c=0\n",
    "if (a/b==0):\n",
    "    while(a/b>=b and type(a/b)==int):\n",
    "      c+=1\n",
    "      a/=b\n",
    "    c\n",
    "else:\n",
    "    print(\"not divisible\")\n"
   ]
  },
  {
   "cell_type": "code",
   "execution_count": 6,
   "id": "9331c760-e854-4f36-89e6-d328462f7882",
   "metadata": {},
   "outputs": [
    {
     "data": {
      "text/plain": [
       "[1, 1, 1, 1, 1, 1, 1, 1]"
      ]
     },
     "execution_count": 6,
     "metadata": {},
     "output_type": "execute_result"
    }
   ],
   "source": [
    "l=[1,2,3,4,5,6,7,8,9,10,11,12,13,14,15,16,17,18,19,20,21,22,23,24,25]\n",
    "l1=[]\n",
    "l2=[]\n",
    "for i in l:\n",
    "    if i%3==0:\n",
    "        l1.append(1)\n",
    "    else:\n",
    "            l2.append(i)\n",
    "l1"
   ]
  },
  {
   "cell_type": "code",
   "execution_count": 1,
   "id": "e945f4d5-5232-4b79-91da-d92b4c5b42ec",
   "metadata": {},
   "outputs": [],
   "source": [
    "f=[1,2,3,4]\n"
   ]
  },
  {
   "cell_type": "code",
   "execution_count": 2,
   "id": "6eb3e6b3-71f2-422c-9aff-d42f528f4955",
   "metadata": {},
   "outputs": [
    {
     "data": {
      "text/plain": [
       "[2, 2, 3, 4]"
      ]
     },
     "execution_count": 2,
     "metadata": {},
     "output_type": "execute_result"
    }
   ],
   "source": [
    "f[0]=2\n",
    "f"
   ]
  },
  {
   "cell_type": "code",
   "execution_count": 7,
   "id": "5d9eaea6-8512-401a-9b1c-66254208a253",
   "metadata": {},
   "outputs": [],
   "source": [
    "f=(1,2,3,4)\n"
   ]
  },
  {
   "cell_type": "code",
   "execution_count": 8,
   "id": "8ecb709d-5020-4099-a291-9dae05ab2174",
   "metadata": {},
   "outputs": [
    {
     "ename": "TypeError",
     "evalue": "'tuple' object does not support item assignment",
     "output_type": "error",
     "traceback": [
      "\u001b[0;31m---------------------------------------------------------------------------\u001b[0m",
      "\u001b[0;31mTypeError\u001b[0m                                 Traceback (most recent call last)",
      "Cell \u001b[0;32mIn[8], line 1\u001b[0m\n\u001b[0;32m----> 1\u001b[0m \u001b[43mf\u001b[49m\u001b[43m[\u001b[49m\u001b[38;5;241;43m0\u001b[39;49m\u001b[43m]\u001b[49m\u001b[38;5;241m=\u001b[39m\u001b[38;5;241m2\u001b[39m\n\u001b[1;32m      2\u001b[0m f\n",
      "\u001b[0;31mTypeError\u001b[0m: 'tuple' object does not support item assignment"
     ]
    }
   ],
   "source": [
    "f[0]=2\n",
    "f"
   ]
  }
 ],
 "metadata": {
  "kernelspec": {
   "display_name": "Python 3 (ipykernel)",
   "language": "python",
   "name": "python3"
  },
  "language_info": {
   "codemirror_mode": {
    "name": "ipython",
    "version": 3
   },
   "file_extension": ".py",
   "mimetype": "text/x-python",
   "name": "python",
   "nbconvert_exporter": "python",
   "pygments_lexer": "ipython3",
   "version": "3.10.8"
  }
 },
 "nbformat": 4,
 "nbformat_minor": 5
}
